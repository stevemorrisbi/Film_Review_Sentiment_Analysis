{
 "cells": [
  {
   "cell_type": "code",
   "execution_count": 5,
   "id": "959f97ae",
   "metadata": {},
   "outputs": [
    {
     "name": "stdout",
     "output_type": "stream",
     "text": [
      "Looking in links: https://download.pytorch.org/whl/torch_stable.html\n",
      "Requirement already satisfied: torch==1.8.1+cu111 in c:\\users\\smorr\\anaconda3\\lib\\site-packages (1.8.1+cu111)\n",
      "Requirement already satisfied: torchvision==0.9.1+cu111 in c:\\users\\smorr\\anaconda3\\lib\\site-packages (0.9.1+cu111)\n",
      "Requirement already satisfied: torchaudio===0.8.1 in c:\\users\\smorr\\anaconda3\\lib\\site-packages (0.8.1)\n",
      "Requirement already satisfied: numpy in c:\\users\\smorr\\anaconda3\\lib\\site-packages (from torch==1.8.1+cu111) (1.20.1)\n",
      "Requirement already satisfied: typing-extensions in c:\\users\\smorr\\anaconda3\\lib\\site-packages (from torch==1.8.1+cu111) (3.7.4.3)\n",
      "Requirement already satisfied: pillow>=4.1.1 in c:\\users\\smorr\\anaconda3\\lib\\site-packages (from torchvision==0.9.1+cu111) (8.2.0)\n"
     ]
    }
   ],
   "source": [
    "!pip install torch==1.8.1+cu111 torchvision==0.9.1+cu111 torchaudio===0.8.1 -f https://download.pytorch.org/whl/torch_stable.html"
   ]
  },
  {
   "cell_type": "code",
   "execution_count": 7,
   "id": "e0e8fb0b",
   "metadata": {},
   "outputs": [
    {
     "name": "stdout",
     "output_type": "stream",
     "text": [
      "Requirement already satisfied: transformers in c:\\users\\smorr\\anaconda3\\lib\\site-packages (4.35.2)\n",
      "Requirement already satisfied: requests in c:\\users\\smorr\\anaconda3\\lib\\site-packages (2.25.1)\n",
      "Requirement already satisfied: beautifulsoup4 in c:\\users\\smorr\\anaconda3\\lib\\site-packages (4.9.3)\n",
      "Requirement already satisfied: pandas in c:\\users\\smorr\\anaconda3\\lib\\site-packages (1.2.4)\n",
      "Requirement already satisfied: numpy in c:\\users\\smorr\\anaconda3\\lib\\site-packages (1.20.1)\n",
      "Requirement already satisfied: soupsieve>1.2 in c:\\users\\smorr\\anaconda3\\lib\\site-packages (from beautifulsoup4) (2.2.1)\n",
      "Requirement already satisfied: pytz>=2017.3 in c:\\users\\smorr\\anaconda3\\lib\\site-packages (from pandas) (2021.1)\n",
      "Requirement already satisfied: python-dateutil>=2.7.3 in c:\\users\\smorr\\anaconda3\\lib\\site-packages (from pandas) (2.8.1)\n",
      "Requirement already satisfied: six>=1.5 in c:\\users\\smorr\\anaconda3\\lib\\site-packages (from python-dateutil>=2.7.3->pandas) (1.15.0)\n",
      "Requirement already satisfied: idna<3,>=2.5 in c:\\users\\smorr\\anaconda3\\lib\\site-packages (from requests) (2.10)\n",
      "Requirement already satisfied: urllib3<1.27,>=1.21.1 in c:\\users\\smorr\\anaconda3\\lib\\site-packages (from requests) (1.26.4)\n",
      "Requirement already satisfied: certifi>=2017.4.17 in c:\\users\\smorr\\anaconda3\\lib\\site-packages (from requests) (2023.7.22)\n",
      "Requirement already satisfied: chardet<5,>=3.0.2 in c:\\users\\smorr\\anaconda3\\lib\\site-packages (from requests) (4.0.0)\n",
      "Requirement already satisfied: pyyaml>=5.1 in c:\\users\\smorr\\anaconda3\\lib\\site-packages (from transformers) (5.4.1)\n",
      "Requirement already satisfied: regex!=2019.12.17 in c:\\users\\smorr\\anaconda3\\lib\\site-packages (from transformers) (2021.4.4)\n",
      "Requirement already satisfied: safetensors>=0.3.1 in c:\\users\\smorr\\anaconda3\\lib\\site-packages (from transformers) (0.4.1)\n",
      "Requirement already satisfied: packaging>=20.0 in c:\\users\\smorr\\anaconda3\\lib\\site-packages (from transformers) (20.9)\n",
      "Requirement already satisfied: huggingface-hub<1.0,>=0.16.4 in c:\\users\\smorr\\anaconda3\\lib\\site-packages (from transformers) (0.19.4)\n",
      "Requirement already satisfied: tokenizers<0.19,>=0.14 in c:\\users\\smorr\\anaconda3\\lib\\site-packages (from transformers) (0.15.0)\n",
      "Requirement already satisfied: tqdm>=4.27 in c:\\users\\smorr\\anaconda3\\lib\\site-packages (from transformers) (4.59.0)\n",
      "Requirement already satisfied: filelock in c:\\users\\smorr\\anaconda3\\lib\\site-packages (from transformers) (3.0.12)\n",
      "Requirement already satisfied: typing-extensions>=3.7.4.3 in c:\\users\\smorr\\anaconda3\\lib\\site-packages (from huggingface-hub<1.0,>=0.16.4->transformers) (3.7.4.3)\n",
      "Requirement already satisfied: fsspec>=2023.5.0 in c:\\users\\smorr\\anaconda3\\lib\\site-packages (from huggingface-hub<1.0,>=0.16.4->transformers) (2023.10.0)\n",
      "Requirement already satisfied: pyparsing>=2.0.2 in c:\\users\\smorr\\anaconda3\\lib\\site-packages (from packaging>=20.0->transformers) (2.4.7)\n"
     ]
    }
   ],
   "source": [
    "!pip install transformers requests beautifulsoup4 pandas numpy"
   ]
  },
  {
   "cell_type": "code",
   "execution_count": 2,
   "id": "4e296546",
   "metadata": {},
   "outputs": [],
   "source": [
    "from transformers import AutoTokenizer, AutoModelForSequenceClassification\n",
    "import torch\n",
    "import requests\n",
    "from bs4 import BeautifulSoup\n",
    "import re"
   ]
  },
  {
   "cell_type": "code",
   "execution_count": 3,
   "id": "cd155b0c",
   "metadata": {},
   "outputs": [],
   "source": [
    "# Loading in the pretrained model\n",
    "# The tokenizer is converting text to a unique number for each word it analyses\n",
    "tokenizer = AutoTokenizer.from_pretrained('nlptown/bert-base-multilingual-uncased-sentiment')\n",
    "\n",
    "model = AutoModelForSequenceClassification.from_pretrained('nlptown/bert-base-multilingual-uncased-sentiment')"
   ]
  },
  {
   "cell_type": "code",
   "execution_count": 4,
   "id": "7b77d9a0",
   "metadata": {},
   "outputs": [],
   "source": [
    "#Testing the tokenizer\n",
    "tokens = tokenizer.encode('It was alright. Nothing Special', return_tensors='pt')"
   ]
  },
  {
   "cell_type": "code",
   "execution_count": 5,
   "id": "957141b2",
   "metadata": {},
   "outputs": [],
   "source": [
    "result = model(tokens)"
   ]
  },
  {
   "cell_type": "code",
   "execution_count": 6,
   "id": "504519be",
   "metadata": {},
   "outputs": [
    {
     "data": {
      "text/plain": [
       "tensor([[-1.3116,  0.7626,  2.3369,  0.6667, -2.0453]],\n",
       "       grad_fn=<AddmmBackward>)"
      ]
     },
     "execution_count": 6,
     "metadata": {},
     "output_type": "execute_result"
    }
   ],
   "source": [
    "result.logits"
   ]
  },
  {
   "cell_type": "code",
   "execution_count": 7,
   "id": "68270aeb",
   "metadata": {},
   "outputs": [
    {
     "data": {
      "text/plain": [
       "3"
      ]
     },
     "execution_count": 7,
     "metadata": {},
     "output_type": "execute_result"
    }
   ],
   "source": [
    "'''\n",
    "finding the class (sentiment score) that the model predicts with the highest confidence and converting it into a \n",
    "human-readable format. The sentiment score is then obtained by adding 1 to the index because indices in programming \n",
    "usually start from 0, while sentiment scores often start from 1.\n",
    "'''\n",
    "\n",
    "int(torch.argmax(result.logits))+1"
   ]
  },
  {
   "cell_type": "code",
   "execution_count": 8,
   "id": "913b6aaa",
   "metadata": {},
   "outputs": [],
   "source": [
    "import numpy as np\n",
    "import pandas as pd"
   ]
  },
  {
   "cell_type": "code",
   "execution_count": 10,
   "id": "78b8b52a",
   "metadata": {},
   "outputs": [],
   "source": [
    "# Testing using beautiful soup to scrape reviews for a film off Rotten Tomatoes and storing then in a dataframe \n",
    "r = requests.get('https://www.rottentomatoes.com/m/azor/reviews')\n",
    "soup = BeautifulSoup(r.text, 'html.parser')\n",
    "regex = re.compile('.*review-text.*')\n",
    "results = soup.find_all('p', {'class':regex})\n",
    "reviews = [result.text for result in results]\n",
    "\n",
    "df = pd.DataFrame(np.array(reviews), columns=['review'])"
   ]
  },
  {
   "cell_type": "code",
   "execution_count": 11,
   "id": "64f5bdfb",
   "metadata": {},
   "outputs": [
    {
     "name": "stdout",
     "output_type": "stream",
     "text": [
      "                                               review\n",
      "0   Ultimately it’s a fairly straightforward, slig...\n",
      "1   As in the worlds of Nicolas Winding Refn or Lu...\n",
      "2   An ethical story in a context where is no ethi...\n",
      "3   It's an understated, slow-burn thriller that n...\n",
      "4   It's one of the year's most cohesive films, an...\n",
      "5   The story unfolds at a pace that might be too ...\n",
      "6   If marinating in paranoia is your idea of a go...\n",
      "7   A suspenseful drama about the woes of the weal...\n",
      "8   A magnificent lesson on what should be seen on...\n",
      "9   Conceptually, Azor, is brilliant and its dream...\n",
      "10  Restraint and alarm are the film's keynotes, w...\n",
      "11  \"Azor\" is a film of impeccably polished facade...\n",
      "12  The feeling of uneasy dread grows throughout t...\n",
      "13  Fontana's movie gives us a precise account of ...\n",
      "14  Fontana's sinewy debut teems with unseen threa...\n",
      "15  It's a fine film, with a bleak message about h...\n",
      "16  As with the concealing language of the dictato...\n",
      "17  This superb debut feature from Andreas Fontana...\n",
      "18  Fontana models the surface of the film after Y...\n",
      "19  A genuinely mysterious journey into the heart ...\n"
     ]
    }
   ],
   "source": [
    "print(df)"
   ]
  },
  {
   "cell_type": "code",
   "execution_count": 20,
   "id": "c7a1d522",
   "metadata": {},
   "outputs": [
    {
     "data": {
      "text/plain": [
       "'Ultimately it’s a fairly straightforward, slightly underwhelming demonstration of the banality of evil.'"
      ]
     },
     "execution_count": 20,
     "metadata": {},
     "output_type": "execute_result"
    }
   ],
   "source": [
    "#Testing printing the first review in the df\n",
    "df['review'].iloc[0]"
   ]
  },
  {
   "cell_type": "code",
   "execution_count": 21,
   "id": "97f6892b",
   "metadata": {},
   "outputs": [],
   "source": [
    "#Turning the sentiment score production into a function \n",
    "def sentiment_score(review):\n",
    "    tokens = tokenizer.encode(review, return_tensors='pt')\n",
    "    result = model(tokens)\n",
    "    return int(torch.argmax(result.logits))+1\n"
   ]
  },
  {
   "cell_type": "code",
   "execution_count": 22,
   "id": "fa458078",
   "metadata": {},
   "outputs": [],
   "source": [
    "#Applying the sentiment score to each review (only using sentiment of the first 512 characters from the review for efficientcy)\n",
    "df['sentiment'] = df['review'].apply(lambda x: sentiment_score(x[:512]))"
   ]
  },
  {
   "cell_type": "code",
   "execution_count": 23,
   "id": "5badc97a",
   "metadata": {},
   "outputs": [
    {
     "data": {
      "text/html": [
       "<div>\n",
       "<style scoped>\n",
       "    .dataframe tbody tr th:only-of-type {\n",
       "        vertical-align: middle;\n",
       "    }\n",
       "\n",
       "    .dataframe tbody tr th {\n",
       "        vertical-align: top;\n",
       "    }\n",
       "\n",
       "    .dataframe thead th {\n",
       "        text-align: right;\n",
       "    }\n",
       "</style>\n",
       "<table border=\"1\" class=\"dataframe\">\n",
       "  <thead>\n",
       "    <tr style=\"text-align: right;\">\n",
       "      <th></th>\n",
       "      <th>review</th>\n",
       "      <th>sentiment</th>\n",
       "    </tr>\n",
       "  </thead>\n",
       "  <tbody>\n",
       "    <tr>\n",
       "      <th>0</th>\n",
       "      <td>Ultimately it’s a fairly straightforward, slig...</td>\n",
       "      <td>3</td>\n",
       "    </tr>\n",
       "    <tr>\n",
       "      <th>1</th>\n",
       "      <td>As in the worlds of Nicolas Winding Refn or Lu...</td>\n",
       "      <td>3</td>\n",
       "    </tr>\n",
       "    <tr>\n",
       "      <th>2</th>\n",
       "      <td>An ethical story in a context where is no ethi...</td>\n",
       "      <td>4</td>\n",
       "    </tr>\n",
       "    <tr>\n",
       "      <th>3</th>\n",
       "      <td>It's an understated, slow-burn thriller that n...</td>\n",
       "      <td>2</td>\n",
       "    </tr>\n",
       "    <tr>\n",
       "      <th>4</th>\n",
       "      <td>It's one of the year's most cohesive films, an...</td>\n",
       "      <td>5</td>\n",
       "    </tr>\n",
       "    <tr>\n",
       "      <th>5</th>\n",
       "      <td>The story unfolds at a pace that might be too ...</td>\n",
       "      <td>3</td>\n",
       "    </tr>\n",
       "    <tr>\n",
       "      <th>6</th>\n",
       "      <td>If marinating in paranoia is your idea of a go...</td>\n",
       "      <td>4</td>\n",
       "    </tr>\n",
       "    <tr>\n",
       "      <th>7</th>\n",
       "      <td>A suspenseful drama about the woes of the weal...</td>\n",
       "      <td>4</td>\n",
       "    </tr>\n",
       "    <tr>\n",
       "      <th>8</th>\n",
       "      <td>A magnificent lesson on what should be seen on...</td>\n",
       "      <td>5</td>\n",
       "    </tr>\n",
       "    <tr>\n",
       "      <th>9</th>\n",
       "      <td>Conceptually, Azor, is brilliant and its dream...</td>\n",
       "      <td>3</td>\n",
       "    </tr>\n",
       "    <tr>\n",
       "      <th>10</th>\n",
       "      <td>Restraint and alarm are the film's keynotes, w...</td>\n",
       "      <td>4</td>\n",
       "    </tr>\n",
       "    <tr>\n",
       "      <th>11</th>\n",
       "      <td>\"Azor\" is a film of impeccably polished facade...</td>\n",
       "      <td>5</td>\n",
       "    </tr>\n",
       "    <tr>\n",
       "      <th>12</th>\n",
       "      <td>The feeling of uneasy dread grows throughout t...</td>\n",
       "      <td>3</td>\n",
       "    </tr>\n",
       "    <tr>\n",
       "      <th>13</th>\n",
       "      <td>Fontana's movie gives us a precise account of ...</td>\n",
       "      <td>4</td>\n",
       "    </tr>\n",
       "    <tr>\n",
       "      <th>14</th>\n",
       "      <td>Fontana's sinewy debut teems with unseen threa...</td>\n",
       "      <td>3</td>\n",
       "    </tr>\n",
       "    <tr>\n",
       "      <th>15</th>\n",
       "      <td>It's a fine film, with a bleak message about h...</td>\n",
       "      <td>4</td>\n",
       "    </tr>\n",
       "    <tr>\n",
       "      <th>16</th>\n",
       "      <td>As with the concealing language of the dictato...</td>\n",
       "      <td>1</td>\n",
       "    </tr>\n",
       "    <tr>\n",
       "      <th>17</th>\n",
       "      <td>This superb debut feature from Andreas Fontana...</td>\n",
       "      <td>5</td>\n",
       "    </tr>\n",
       "    <tr>\n",
       "      <th>18</th>\n",
       "      <td>Fontana models the surface of the film after Y...</td>\n",
       "      <td>4</td>\n",
       "    </tr>\n",
       "    <tr>\n",
       "      <th>19</th>\n",
       "      <td>A genuinely mysterious journey into the heart ...</td>\n",
       "      <td>5</td>\n",
       "    </tr>\n",
       "  </tbody>\n",
       "</table>\n",
       "</div>"
      ],
      "text/plain": [
       "                                               review  sentiment\n",
       "0   Ultimately it’s a fairly straightforward, slig...          3\n",
       "1   As in the worlds of Nicolas Winding Refn or Lu...          3\n",
       "2   An ethical story in a context where is no ethi...          4\n",
       "3   It's an understated, slow-burn thriller that n...          2\n",
       "4   It's one of the year's most cohesive films, an...          5\n",
       "5   The story unfolds at a pace that might be too ...          3\n",
       "6   If marinating in paranoia is your idea of a go...          4\n",
       "7   A suspenseful drama about the woes of the weal...          4\n",
       "8   A magnificent lesson on what should be seen on...          5\n",
       "9   Conceptually, Azor, is brilliant and its dream...          3\n",
       "10  Restraint and alarm are the film's keynotes, w...          4\n",
       "11  \"Azor\" is a film of impeccably polished facade...          5\n",
       "12  The feeling of uneasy dread grows throughout t...          3\n",
       "13  Fontana's movie gives us a precise account of ...          4\n",
       "14  Fontana's sinewy debut teems with unseen threa...          3\n",
       "15  It's a fine film, with a bleak message about h...          4\n",
       "16  As with the concealing language of the dictato...          1\n",
       "17  This superb debut feature from Andreas Fontana...          5\n",
       "18  Fontana models the surface of the film after Y...          4\n",
       "19  A genuinely mysterious journey into the heart ...          5"
      ]
     },
     "execution_count": 23,
     "metadata": {},
     "output_type": "execute_result"
    }
   ],
   "source": [
    "df"
   ]
  },
  {
   "cell_type": "code",
   "execution_count": 24,
   "id": "d0d58bb5",
   "metadata": {},
   "outputs": [
    {
     "name": "stdout",
     "output_type": "stream",
     "text": [
      "Average Sentiment: 3.7\n"
     ]
    }
   ],
   "source": [
    "# Calculating the average sentiment score of all the reviews\n",
    "average_sentiment = df['sentiment'].mean()\n",
    "\n",
    "print(\"Average Sentiment:\", average_sentiment)"
   ]
  },
  {
   "cell_type": "code",
   "execution_count": 29,
   "id": "a9e5b1a0",
   "metadata": {},
   "outputs": [
    {
     "name": "stdout",
     "output_type": "stream",
     "text": [
      "Average Sentiment Score for Memories Of Murder 2003: 3.85\n",
      "Average Sentiment Score for Azor: 3.7\n"
     ]
    }
   ],
   "source": [
    "def extract_film_name(url):\n",
    "    # Taking the film name from the url (haracters in between /m/ and / of url)\n",
    "    match = re.search(r'/m/([^/]+)', url)\n",
    "    if match:\n",
    "        # the below line will store the film name into the film_name variable if there is a match\n",
    "        film_name = match.group(1)\n",
    "        # Remove underscores and using .title method to capitalize the words in the film name\n",
    "        film_name = film_name.replace('_', ' ').title()\n",
    "        return film_name\n",
    "    else:\n",
    "        return None\n",
    "\n",
    "    #Creating a function to return the average sentiment for each film inputted as a url\n",
    "def compare_sentiment_scores(urls):\n",
    "    average_sentiments = []\n",
    "\n",
    "    for url in urls:\n",
    "        film_name = extract_film_name(url)\n",
    "\n",
    "        if film_name:\n",
    "            # Collect the reviews from the provided url\n",
    "            r = requests.get(url)\n",
    "            soup = BeautifulSoup(r.text, 'html.parser')\n",
    "            regex = re.compile('.*review-text.*')\n",
    "            results = soup.find_all('p', {'class': regex})\n",
    "            reviews = [result.text for result in results]\n",
    "\n",
    "            # Create a DataFrame\n",
    "            df = pd.DataFrame(np.array(reviews), columns=['review'])\n",
    "\n",
    "            # Calculate sentiment scores using the sentiment score function defined below\n",
    "            df['sentiment'] = df['review'].apply(lambda x: sentiment_score(x[:512]))\n",
    "\n",
    "            # Calculate the average sentiment to go along with it's film name and append it to the list\n",
    "            average_sentiment = df['sentiment'].mean()\n",
    "            average_sentiments.append((film_name, average_sentiment))\n",
    "\n",
    "    # Sort the results for highest sentiment score first\n",
    "    average_sentiments = sorted(average_sentiments, key=lambda x: x[1], reverse=True)\n",
    "\n",
    "    return average_sentiments\n",
    "\n",
    "#Function to extract the sentiment score. This is embedded in the function above in order to find the highest average score\n",
    "def sentiment_score(review):\n",
    "    tokens = tokenizer.encode(review, return_tensors='pt')\n",
    "    result = model(tokens)\n",
    "    return int(torch.argmax(result.logits)) + 1\n",
    "\n",
    "# Creating a list of films to extract their review\n",
    "website_urls = [\n",
    "    'https://www.rottentomatoes.com/m/azor/reviews',\n",
    "    'https://www.rottentomatoes.com/m/memories_of_murder_2003/reviews',\n",
    "    # Add to this later \n",
    "]\n",
    "\n",
    "#Inputing a list of film urls into the compare_sentiment_scores function and storing all this into a variable to iterate over.\n",
    "average_sentiments = compare_sentiment_scores(website_urls)\n",
    "\n",
    "for film_name, avg_sentiment in average_sentiments:\n",
    "    print(f\"Average Sentiment Score for {film_name}: {avg_sentiment}\")"
   ]
  }
 ],
 "metadata": {
  "kernelspec": {
   "display_name": "Python 3",
   "language": "python",
   "name": "python3"
  },
  "language_info": {
   "codemirror_mode": {
    "name": "ipython",
    "version": 3
   },
   "file_extension": ".py",
   "mimetype": "text/x-python",
   "name": "python",
   "nbconvert_exporter": "python",
   "pygments_lexer": "ipython3",
   "version": "3.8.8"
  }
 },
 "nbformat": 4,
 "nbformat_minor": 5
}
